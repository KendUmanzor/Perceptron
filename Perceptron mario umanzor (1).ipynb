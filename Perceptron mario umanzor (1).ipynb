{
 "cells": [
  {
   "cell_type": "code",
   "execution_count": 7,
   "id": "76b19aac-6ea6-4320-bab0-4dab6567b451",
   "metadata": {},
   "outputs": [],
   "source": [
    "import numpy as np\n",
    "import numpy as np\n",
    "from PIL import Image\n",
    "import os\n",
    "import pickle"
   ]
  },
  {
   "cell_type": "code",
   "execution_count": 8,
   "id": "3afbc12b-f41b-44fe-828f-1bd6001c3a75",
   "metadata": {},
   "outputs": [],
   "source": [
    "def sigmoid(x):\n",
    "    return 1.0/(1.0 + np.exp(-x))\n",
    " \n",
    "def sigmoid_derivada(x):\n",
    "    return sigmoid(x)*(1.0-sigmoid(x))\n",
    " \n",
    "def tanh(x):\n",
    "    return np.tanh(x)\n",
    " \n",
    "def tanh_derivada(x):\n",
    "    return 1.0 - x**2\n",
    " \n",
    "class RedNeuronal:\n",
    " \n",
    "    def __init__(self, layers, activation='tanh'):\n",
    "        if activation == 'sigmoid':\n",
    "            self.activation = sigmoid\n",
    "            self.activation_prime = sigmoid_derivada\n",
    "        elif activation == 'tanh':\n",
    "            self.activation = tanh\n",
    "            self.activation_prime = tanh_derivada\n",
    " \n",
    "        # inicializo los pesos\n",
    "        self.weights = []\n",
    "        self.deltas = []\n",
    "        for i in range(1, len(layers) - 1):\n",
    "            r = 2*np.random.random((layers[i-1] + 1, layers[i] + 1)) -1\n",
    "            self.weights.append(r)\n",
    "        r = 2*np.random.random( (layers[i] + 1, layers[i+1])) - 1\n",
    "        self.weights.append(r)\n",
    " #entrenar\n",
    "    def entrenar(self, X, y, learning_rate=0.2, epochs=100000):\n",
    "\n",
    "        ones = np.atleast_2d(np.ones(X.shape[0]))\n",
    "        X = np.concatenate((ones.T, X), axis=1)\n",
    "        \n",
    "        for k in range(epochs):\n",
    "            i = np.random.randint(X.shape[0])\n",
    "            a = [X[i]]\n",
    "            \n",
    "#forward propagation\n",
    "            \n",
    "            for l in range(len(self.weights)):\n",
    "                    dot_value = np.dot(a[l], self.weights[l])\n",
    "                    activation = self.activation(dot_value)\n",
    "                    a.append(activation)\n",
    "\n",
    "            error = y[i] - a[-1]\n",
    "            deltas = [error * self.activation_prime(a[-1])]\n",
    "\n",
    "            for l in range(len(a) - 2, 0, -1): \n",
    "                deltas.append(deltas[-1].dot(self.weights[l].T)*self.activation_prime(a[l]))\n",
    "            self.deltas.append(deltas)\n",
    " \n",
    "\n",
    "            deltas.reverse()\n",
    " \n",
    "#backpropagation\n",
    "            \n",
    "            for i in range(len(self.weights)):\n",
    "                layer = np.atleast_2d(a[i])\n",
    "                delta = np.atleast_2d(deltas[i])\n",
    "                self.weights[i] += learning_rate * layer.T.dot(delta)\n",
    " \n",
    "            if k % 100 == 0:\n",
    "                mse = np.mean(np.square(error))\n",
    "                print(f\"épocas: {k}  |  error: {mse}\")\n",
    "\n",
    "    def predict(self, x):\n",
    "        ones = np.atleast_2d(np.ones(x.shape[0]))\n",
    "        a = np.concatenate((np.ones(1).T, np.array(x)), axis=0)\n",
    "        for l in range(0, len(self.weights)):\n",
    "            a = self.activation(np.dot(a, self.weights[l]))\n",
    "        return a\n",
    "\n"
   ]
  },
  {
   "cell_type": "code",
   "execution_count": 9,
   "id": "2795a343-6011-4e98-b0c5-9b2a3212ba51",
   "metadata": {},
   "outputs": [],
   "source": [
    "#cargo imagen y reduzco 100x100, la escalo a grises y aplano\n",
    "def cargar_imagen(ruta, tamano=(100, 100)):\n",
    "    img = Image.open(ruta).convert('L').resize(tamano)\n",
    "    return np.array(img).flatten() / 255.0\n",
    "# cargo la carpeta y asigno labels \n",
    "def cargar_carpeta(directorio, tamano=(100, 100)):\n",
    "    X = []\n",
    "    y = []\n",
    "    for etiqueta, clase in enumerate([\"otros\", \"yo\"]):\n",
    "        clase_dir = os.path.join(directorio, clase)\n",
    "        if not os.path.isdir(clase_dir):\n",
    "            continue\n",
    "        for archivo in os.listdir(clase_dir):\n",
    "            ruta = os.path.join(clase_dir, archivo)\n",
    "            try:\n",
    "                vector = cargar_imagen(ruta, tamano)\n",
    "                X.append(vector)\n",
    "                y.append(etiqueta)\n",
    "            except:\n",
    "                print(f\"Error cargando la imagen: {ruta}\")\n",
    "    return np.array(X), np.array(y)\n"
   ]
  },
  {
   "cell_type": "code",
   "execution_count": 19,
   "id": "c0b5e3b9-4042-418b-8fe5-866729d58ec7",
   "metadata": {},
   "outputs": [
    {
     "name": "stdout",
     "output_type": "stream",
     "text": [
      "épocas: 0  |  error: 0.0030611182736165494\n",
      "épocas: 100  |  error: 0.0034692883139333056\n",
      "épocas: 200  |  error: 0.011046449714477142\n",
      "épocas: 300  |  error: 0.03374182924456096\n",
      "épocas: 400  |  error: 0.9686655171188426\n",
      "épocas: 500  |  error: 0.011014297554274759\n",
      "épocas: 600  |  error: 0.26062319874233025\n",
      "épocas: 700  |  error: 4.335214503971692e-07\n",
      "épocas: 800  |  error: 0.009953084163816328\n",
      "épocas: 900  |  error: 0.0039166465951750344\n"
     ]
    }
   ],
   "source": [
    "#llamo para asignar xs y ys\n",
    "#le asigno la Ruta de la carpeta donde se tienen que encontrar si o si\n",
    "# las carpetas de nombre Yo y otra carpeta de nombre otros\n",
    "#en yo solo habran fotos de mi cara y en otros habran fotos de varia gente\n",
    "X, y = cargar_carpeta(r\"C:\\Users\\Kendrita\\Desktop\\perceptron\\datos\")\n",
    "\n",
    "# Red neuronal: 400 entradas, 16 neuronas ocultas, 1 salida\n",
    "#red = RedNeuronal(entradas=10000, ocultas=80, salidas=1)\n",
    "\n",
    "# llamo la red enuronal le asigno 100000 de entrada, 512 neuronas de capas medias y 128 capas y 1 salida\n",
    "red= RedNeuronal([10000, 512,128, 1],activation='sigmoid')\n",
    "red.entrenar(X,y,learning_rate=0.05, epochs=1000)\n",
    "#red.entrenar(X, y, epochs=1000, lr=0.5)\n"
   ]
  },
  {
   "cell_type": "code",
   "execution_count": 24,
   "id": "dea7a2af-0f4f-472a-b588-494b58b53998",
   "metadata": {},
   "outputs": [
    {
     "name": "stdout",
     "output_type": "stream",
     "text": [
      "00000 Soy yo 00000 (probabilidad: 99.53%)\n"
     ]
    },
    {
     "name": "stderr",
     "output_type": "stream",
     "text": [
      "C:\\Users\\Kendrita\\AppData\\Local\\Temp\\ipykernel_4440\\2141404201.py:6: DeprecationWarning: Conversion of an array with ndim > 0 to a scalar is deprecated, and will error in future. Ensure you extract a single element from your array before performing this operation. (Deprecated NumPy 1.25.)\n",
      "  probabilidad = float(red.predict(vector))\n"
     ]
    }
   ],
   "source": [
    "\n",
    "#pongo la ruta de la imagen que quiero que clasifique\n",
    "ruta = r\"C:\\Users\\Kendrita\\Desktop\\perceptron\\test\\imagen_prueba8.jpeg\"\n",
    "vector = cargar_imagen(ruta)\n",
    "\n",
    "#probabilidad = red.forward(np.array([vector]))[0][0]\n",
    "probabilidad = float(red.predict(vector))\n",
    "\n",
    "\n",
    "umbral = 0.8\n",
    "if probabilidad >= umbral:\n",
    "    print(f\"00000 Soy yo 00000 (probabilidad: {probabilidad*100:.2f}%)\")\n",
    "elif probabilidad <0.8 and probabilidad >= 0.5:\n",
    "    print(f\"00000 Puedo ser yo 00000 (probabilidad: {probabilidad*100:.2f}%)\")\n",
    "else:\n",
    "    print(f\"XXXXX no soy yo XXXXX (probabilidad: {probabilidad*100:.2f}%)\")"
   ]
  },
  {
   "cell_type": "code",
   "execution_count": null,
   "id": "d0bdc0b1-0559-49b0-8087-083a9da64c90",
   "metadata": {},
   "outputs": [],
   "source": []
  },
  {
   "cell_type": "code",
   "execution_count": null,
   "id": "2a0a0c31-46e4-459a-8b79-5847de291057",
   "metadata": {},
   "outputs": [],
   "source": []
  }
 ],
 "metadata": {
  "kernelspec": {
   "display_name": "Python 3 (ipykernel)",
   "language": "python",
   "name": "python3"
  },
  "language_info": {
   "codemirror_mode": {
    "name": "ipython",
    "version": 3
   },
   "file_extension": ".py",
   "mimetype": "text/x-python",
   "name": "python",
   "nbconvert_exporter": "python",
   "pygments_lexer": "ipython3",
   "version": "3.12.7"
  }
 },
 "nbformat": 4,
 "nbformat_minor": 5
}
